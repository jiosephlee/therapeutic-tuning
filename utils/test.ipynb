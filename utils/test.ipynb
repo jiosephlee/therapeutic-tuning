{
 "cells": [
  {
   "cell_type": "code",
   "execution_count": null,
   "metadata": {},
   "outputs": [],
   "source": [
    "%pip install trl pydantic datasets peft bitsandbytes"
   ]
  },
  {
   "cell_type": "code",
   "execution_count": 7,
   "metadata": {},
   "outputs": [
    {
     "name": "stdout",
     "output_type": "stream",
     "text": [
      "Original texts: 3\n",
      "Total tokens: 95\n",
      "Context length: 20\n",
      "Generated chunks: 6\n",
      "\n",
      "Chunks:\n",
      "Chunk 1 (20 tokens): This is the first document. It contains some text that we want to chunk based on token length.\n",
      "Chunk 2 (14 tokens):  Let's see how the chunking function works with this content.<|endoftext|>\n",
      "Chunk 3 (20 tokens): Here's a second document with different content. This one is also going to be processed by our chunk\n",
      "Chunk 4 (11 tokens): ing function to demonstrate how it handles multiple texts.<|endoftext|>\n",
      "Chunk 5 (20 tokens): A third and final document to complete our test. This will help us verify that the function properly handles\n",
      "Chunk 6 (10 tokens):  a list of texts and chunks them appropriately.<|endoftext|>\n"
     ]
    }
   ],
   "source": [
    "from transformers import AutoTokenizer\n",
    "from llm_training import chunk_texts\n",
    "\n",
    "# Load OLMO2 tokenizer\n",
    "tokenizer = AutoTokenizer.from_pretrained(\"allenai/OLMo-2-1124-7B\", trust_remote_code=True)\n",
    "\n",
    "# Sample texts to test chunking\n",
    "sample_texts = [\n",
    "    \"This is the first document. It contains some text that we want to chunk based on token length. Let's see how the chunking function works with this content.\",\n",
    "    \"Here's a second document with different content. This one is also going to be processed by our chunking function to demonstrate how it handles multiple texts.\",\n",
    "    \"A third and final document to complete our test. This will help us verify that the function properly handles a list of texts and chunks them appropriately.\"\n",
    "]\n",
    "\n",
    "# Test the chunk_texts function with a small context length\n",
    "context_length = 20  # Small context length to force chunking\n",
    "all_chunks, total_tokens = chunk_texts(sample_texts, tokenizer, context_length)\n",
    "\n",
    "print(f\"Original texts: {len(sample_texts)}\")\n",
    "print(f\"Total tokens: {total_tokens}\")\n",
    "print(f\"Context length: {context_length}\")\n",
    "print(f\"Generated chunks: {len(all_chunks)}\")\n",
    "print(\"\\nChunks:\")\n",
    "for i, chunk in enumerate(all_chunks):\n",
    "    chunk_tokens = len(tokenizer(chunk, add_special_tokens=False)[\"input_ids\"])\n",
    "    print(f\"Chunk {i+1} ({chunk_tokens} tokens): {chunk}\")\n"
   ]
  }
 ],
 "metadata": {
  "kernelspec": {
   "display_name": "finetuning",
   "language": "python",
   "name": "python3"
  },
  "language_info": {
   "codemirror_mode": {
    "name": "ipython",
    "version": 3
   },
   "file_extension": ".py",
   "mimetype": "text/x-python",
   "name": "python",
   "nbconvert_exporter": "python",
   "pygments_lexer": "ipython3",
   "version": "3.11.11"
  }
 },
 "nbformat": 4,
 "nbformat_minor": 2
}
