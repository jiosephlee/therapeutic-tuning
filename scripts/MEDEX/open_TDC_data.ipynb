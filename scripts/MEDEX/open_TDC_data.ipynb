{
 "cells": [
  {
   "cell_type": "code",
   "execution_count": 5,
   "id": "444f29ec",
   "metadata": {},
   "outputs": [
    {
     "name": "stderr",
     "output_type": "stream",
     "text": [
      "Found local copy...\n",
      "Loading...\n",
      "Done!\n",
      "100%|██████████| 7278/7278 [00:01<00:00, 6961.37it/s]\n"
     ]
    }
   ],
   "source": [
    "from tdc.single_pred import Tox, ADME\n",
    "\n",
    "data= Tox(name= \"AMES\")\n",
    "split= data.get_split(method = 'scaffold')\n",
    "train_df = split['train']\n",
    "val_df = split['valid']\n",
    "test_df = split['test']"
   ]
  },
  {
   "cell_type": "code",
   "execution_count": 6,
   "id": "a119b329",
   "metadata": {},
   "outputs": [],
   "source": [
    "import os\n",
    "\n",
    "# create AMES directory if it doesn't exist\n",
    "os.makedirs('./../data/TDC/AMES', exist_ok=True)\n",
    "train_df.to_csv('./../data/TDC/AMES/train_df.csv', index=False)\n",
    "val_df.to_csv('./../data/TDC/AMES/val_df.csv', index=False)\n",
    "test_df.to_csv('./../data/TDC/AMES/test_df.csv', index=False)\n"
   ]
  },
  {
   "cell_type": "code",
   "execution_count": 7,
   "id": "e6cf1cdf",
   "metadata": {},
   "outputs": [
    {
     "name": "stderr",
     "output_type": "stream",
     "text": [
      "Found local copy...\n",
      "Loading...\n",
      "Done!\n"
     ]
    }
   ],
   "source": [
    "from tdc.single_pred import Tox\n",
    "data = Tox(name = 'Skin Reaction')\n",
    "split = data.get_split()\n",
    "train_df = split['train']\n",
    "val_df = split['valid']\n",
    "test_df = split['test']"
   ]
  },
  {
   "cell_type": "code",
   "execution_count": 8,
   "id": "8c196baa",
   "metadata": {},
   "outputs": [],
   "source": [
    "\n",
    "os.makedirs('./../data/TDC/Skin', exist_ok=True)\n",
    "train_df.to_csv('./../data/TDC/Skin/train_df.csv', index=False)\n",
    "val_df.to_csv('./../data/TDC/Skin/val_df.csv', index=False)\n",
    "test_df.to_csv('./../data/TDC/Skin/test_df.csv', index=False)\n"
   ]
  }
 ],
 "metadata": {
  "kernelspec": {
   "display_name": "finetuning",
   "language": "python",
   "name": "python3"
  },
  "language_info": {
   "codemirror_mode": {
    "name": "ipython",
    "version": 3
   },
   "file_extension": ".py",
   "mimetype": "text/x-python",
   "name": "python",
   "nbconvert_exporter": "python",
   "pygments_lexer": "ipython3",
   "version": "3.11.11"
  }
 },
 "nbformat": 4,
 "nbformat_minor": 5
}
