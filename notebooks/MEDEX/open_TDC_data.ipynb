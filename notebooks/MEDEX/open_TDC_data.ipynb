{
 "cells": [
  {
   "cell_type": "code",
   "execution_count": 5,
   "id": "444f29ec",
   "metadata": {},
   "outputs": [
    {
     "name": "stderr",
     "output_type": "stream",
     "text": [
      "Found local copy...\n",
      "Loading...\n",
      "Done!\n",
      "100%|██████████| 7278/7278 [00:01<00:00, 6961.37it/s]\n"
     ]
    }
   ],
   "source": [
    "from tdc.single_pred import Tox, ADME\n",
    "\n",
    "data= Tox(name= \"AMES\")\n",
    "split= data.get_split(method = 'scaffold')\n",
    "train_df = split['train']\n",
    "val_df = split['valid']\n",
    "test_df = split['test']"
   ]
  },
  {
   "cell_type": "code",
   "execution_count": 6,
   "id": "a119b329",
   "metadata": {},
   "outputs": [],
   "source": [
    "import os\n",
    "\n",
    "# create AMES directory if it doesn't exist\n",
    "os.makedirs('./../data/TDC/AMES', exist_ok=True)\n",
    "train_df.to_csv('./../data/TDC/AMES/train_df.csv', index=False)\n",
    "val_df.to_csv('./../data/TDC/AMES/val_df.csv', index=False)\n",
    "test_df.to_csv('./../data/TDC/AMES/test_df.csv', index=False)\n"
   ]
  },
  {
   "cell_type": "code",
   "execution_count": 6,
   "id": "e6cf1cdf",
   "metadata": {},
   "outputs": [
    {
     "name": "stderr",
     "output_type": "stream",
     "text": [
      "Downloading...\n",
      "100%|██████████| 26.7k/26.7k [00:00<00:00, 3.46MiB/s]\n",
      "Loading...\n",
      "Done!\n"
     ]
    }
   ],
   "source": [
    "from tdc.single_pred import Tox\n",
    "data = Tox(name = 'Skin Reaction')\n",
    "split = data.get_split()\n",
    "train_df = split['train']\n",
    "val_df = split['valid']\n",
    "test_df = split['test']"
   ]
  },
  {
   "cell_type": "code",
   "execution_count": 7,
   "id": "c50aabcc",
   "metadata": {},
   "outputs": [
    {
     "data": {
      "text/html": [
       "<div>\n",
       "<style scoped>\n",
       "    .dataframe tbody tr th:only-of-type {\n",
       "        vertical-align: middle;\n",
       "    }\n",
       "\n",
       "    .dataframe tbody tr th {\n",
       "        vertical-align: top;\n",
       "    }\n",
       "\n",
       "    .dataframe thead th {\n",
       "        text-align: right;\n",
       "    }\n",
       "</style>\n",
       "<table border=\"1\" class=\"dataframe\">\n",
       "  <thead>\n",
       "    <tr style=\"text-align: right;\">\n",
       "      <th></th>\n",
       "      <th>Drug_ID</th>\n",
       "      <th>Drug</th>\n",
       "      <th>Y</th>\n",
       "    </tr>\n",
       "  </thead>\n",
       "  <tbody>\n",
       "    <tr>\n",
       "      <th>0</th>\n",
       "      <td>(2-Bromo-5-propoxyphenyl)-(2-hydroxy-4-methoxy...</td>\n",
       "      <td>CCCOc1ccc(Br)c(C(=O)c2ccc(OC)cc2O)c1</td>\n",
       "      <td>0</td>\n",
       "    </tr>\n",
       "    <tr>\n",
       "      <th>1</th>\n",
       "      <td>(2E)-2-Methyl-2-butenal</td>\n",
       "      <td>CC=C(C)C=O</td>\n",
       "      <td>0</td>\n",
       "    </tr>\n",
       "    <tr>\n",
       "      <th>2</th>\n",
       "      <td>(2-oxo-1-phenylpyrrolidin-3-yl)-Triphenylphosp...</td>\n",
       "      <td>O=C1C([PH](c2ccccc2)(c2ccccc2)c2ccccc2)CCN1c1c...</td>\n",
       "      <td>0</td>\n",
       "    </tr>\n",
       "    <tr>\n",
       "      <th>3</th>\n",
       "      <td>(4Z)-2-Methyl-6-methylene-4-octene</td>\n",
       "      <td>C=C(C=CCC(C)C)CC</td>\n",
       "      <td>0</td>\n",
       "    </tr>\n",
       "    <tr>\n",
       "      <th>4</th>\n",
       "      <td>[4-(Ethoxymethyl)-2,6-dimethoxyphenyl]boronic ...</td>\n",
       "      <td>CCOCc1cc(OC)c(B(O)O)c(OC)c1</td>\n",
       "      <td>0</td>\n",
       "    </tr>\n",
       "    <tr>\n",
       "      <th>...</th>\n",
       "      <td>...</td>\n",
       "      <td>...</td>\n",
       "      <td>...</td>\n",
       "    </tr>\n",
       "    <tr>\n",
       "      <th>278</th>\n",
       "      <td>Diphenylcyclopropenone</td>\n",
       "      <td>O=c1c(-c2ccccc2)c1-c1ccccc1</td>\n",
       "      <td>1</td>\n",
       "    </tr>\n",
       "    <tr>\n",
       "      <th>279</th>\n",
       "      <td>Disperse Violet 1 (1,4-diamino-9,10-anthracene...</td>\n",
       "      <td>Nc1ccc(N)c2c1C(=O)c1ccccc1C2=O</td>\n",
       "      <td>1</td>\n",
       "    </tr>\n",
       "    <tr>\n",
       "      <th>280</th>\n",
       "      <td>HC Red 13</td>\n",
       "      <td>Nc1ccc(N(CO)CCO)cc1[N+](=O)[O-]</td>\n",
       "      <td>1</td>\n",
       "    </tr>\n",
       "    <tr>\n",
       "      <th>281</th>\n",
       "      <td>Propyl gallate</td>\n",
       "      <td>CCCOC(=O)c1cc(O)c(O)c(O)c1</td>\n",
       "      <td>1</td>\n",
       "    </tr>\n",
       "    <tr>\n",
       "      <th>282</th>\n",
       "      <td>Squaric acid</td>\n",
       "      <td>O=c1c(O)c(O)c1=O</td>\n",
       "      <td>1</td>\n",
       "    </tr>\n",
       "  </tbody>\n",
       "</table>\n",
       "<p>283 rows × 3 columns</p>\n",
       "</div>"
      ],
      "text/plain": [
       "                                               Drug_ID  \\\n",
       "0    (2-Bromo-5-propoxyphenyl)-(2-hydroxy-4-methoxy...   \n",
       "1                              (2E)-2-Methyl-2-butenal   \n",
       "2    (2-oxo-1-phenylpyrrolidin-3-yl)-Triphenylphosp...   \n",
       "3                   (4Z)-2-Methyl-6-methylene-4-octene   \n",
       "4    [4-(Ethoxymethyl)-2,6-dimethoxyphenyl]boronic ...   \n",
       "..                                                 ...   \n",
       "278                             Diphenylcyclopropenone   \n",
       "279  Disperse Violet 1 (1,4-diamino-9,10-anthracene...   \n",
       "280                                          HC Red 13   \n",
       "281                                     Propyl gallate   \n",
       "282                                       Squaric acid   \n",
       "\n",
       "                                                  Drug  Y  \n",
       "0                 CCCOc1ccc(Br)c(C(=O)c2ccc(OC)cc2O)c1  0  \n",
       "1                                           CC=C(C)C=O  0  \n",
       "2    O=C1C([PH](c2ccccc2)(c2ccccc2)c2ccccc2)CCN1c1c...  0  \n",
       "3                                     C=C(C=CCC(C)C)CC  0  \n",
       "4                          CCOCc1cc(OC)c(B(O)O)c(OC)c1  0  \n",
       "..                                                 ... ..  \n",
       "278                        O=c1c(-c2ccccc2)c1-c1ccccc1  1  \n",
       "279                     Nc1ccc(N)c2c1C(=O)c1ccccc1C2=O  1  \n",
       "280                    Nc1ccc(N(CO)CCO)cc1[N+](=O)[O-]  1  \n",
       "281                         CCCOC(=O)c1cc(O)c(O)c(O)c1  1  \n",
       "282                                   O=c1c(O)c(O)c1=O  1  \n",
       "\n",
       "[283 rows x 3 columns]"
      ]
     },
     "execution_count": 7,
     "metadata": {},
     "output_type": "execute_result"
    }
   ],
   "source": [
    "train_df"
   ]
  },
  {
   "cell_type": "code",
   "execution_count": 8,
   "id": "8c196baa",
   "metadata": {},
   "outputs": [],
   "source": [
    "\n",
    "os.makedirs('./../data/TDC/Skin', exist_ok=True)\n",
    "train_df.to_csv('./../data/TDC/Skin/train_df.csv', index=False)\n",
    "val_df.to_csv('./../data/TDC/Skin/val_df.csv', index=False)\n",
    "test_df.to_csv('./../data/TDC/Skin/test_df.csv', index=False)\n"
   ]
  },
  {
   "cell_type": "code",
   "execution_count": 2,
   "id": "1a275f96",
   "metadata": {},
   "outputs": [
    {
     "name": "stderr",
     "output_type": "stream",
     "text": [
      "Found local copy...\n",
      "Loading...\n",
      "Done!\n",
      "100%|██████████| 13445/13445 [00:04<00:00, 3304.84it/s]\n"
     ]
    }
   ],
   "source": [
    "from tdc.single_pred import Tox, ADME\n",
    "import os\n",
    "data = Tox(name = 'hERG_Karim')\n",
    "split= data.get_split(method = 'scaffold')\n",
    "train_df = split['train']\n",
    "val_df = split['valid']\n",
    "test_df = split['test']\n",
    "\n",
    "os.makedirs('./../data/TDC/Karim', exist_ok=True)\n",
    "train_df.to_csv('./../data/TDC/Karim/train_df.csv', index=False)\n",
    "val_df.to_csv('./../data/TDC/Karim/val_df.csv', index=False)\n",
    "test_df.to_csv('./../data/TDC/Karim/test_df.csv', index=False)\n"
   ]
  },
  {
   "cell_type": "code",
   "execution_count": 3,
   "id": "ff71192b",
   "metadata": {},
   "outputs": [
    {
     "name": "stderr",
     "output_type": "stream",
     "text": [
      "Downloading...\n",
      "100%|██████████| 20.2k/20.2k [00:00<00:00, 7.24MiB/s]\n",
      "Loading...\n",
      "Done!\n",
      "100%|██████████| 280/280 [00:00<00:00, 3187.21it/s]\n"
     ]
    }
   ],
   "source": [
    "from tdc.single_pred import Tox, ADME\n",
    "\n",
    "data = Tox(name = 'Carcinogens_Lagunin')\n",
    "split= data.get_split(method = 'scaffold')\n",
    "train_df = split['train']\n",
    "val_df = split['valid']\n",
    "test_df = split['test']\n",
    "\n",
    "os.makedirs('./../data/TDC/Carcinogens', exist_ok=True)\n",
    "train_df.to_csv('./../data/TDC/Carcinogens/train_df.csv', index=False)\n",
    "val_df.to_csv('./../data/TDC/Carcinogens/val_df.csv', index=False)\n",
    "test_df.to_csv('./../data/TDC/Carcinogens/test_df.csv', index=False)\n"
   ]
  },
  {
   "cell_type": "code",
   "execution_count": 4,
   "id": "848013a7",
   "metadata": {},
   "outputs": [
    {
     "name": "stderr",
     "output_type": "stream",
     "text": [
      "Downloading...\n",
      "100%|██████████| 138k/138k [00:00<00:00, 1.43MiB/s]\n",
      "Loading...\n",
      "Done!\n",
      "100%|██████████| 2030/2030 [00:00<00:00, 3528.59it/s]\n"
     ]
    }
   ],
   "source": [
    "from tdc.single_pred import Tox, ADME\n",
    "\n",
    "data = ADME(name = 'BBB_Martins')\n",
    "split= data.get_split(method = 'scaffold')\n",
    "train_df = split['train']\n",
    "val_df = split['valid']\n",
    "test_df = split['test']\n",
    "\n",
    "os.makedirs('./../data/TDC/BBB', exist_ok=True)\n",
    "train_df.to_csv('./../data/TDC/BBB/train_df.csv', index=False)\n",
    "val_df.to_csv('./../data/TDC/BBB/val_df.csv', index=False)\n",
    "test_df.to_csv('./../data/TDC/BBB/test_df.csv', index=False)\n"
   ]
  },
  {
   "cell_type": "code",
   "execution_count": 5,
   "id": "96008370",
   "metadata": {},
   "outputs": [
    {
     "name": "stderr",
     "output_type": "stream",
     "text": [
      "Downloading...\n",
      "100%|██████████| 43.7k/43.7k [00:00<00:00, 5.37MiB/s]\n",
      "Loading...\n",
      "Done!\n",
      "100%|██████████| 640/640 [00:00<00:00, 4520.23it/s]\n"
     ]
    }
   ],
   "source": [
    "from tdc.single_pred import Tox, ADME\n",
    "\n",
    "data = ADME(name = 'Bioavailability_Ma')\n",
    "split= data.get_split(method = 'scaffold')\n",
    "train_df = split['train']\n",
    "val_df = split['valid']\n",
    "test_df = split['test']\n",
    "\n",
    "os.makedirs('./../data/TDC/Bioavailability', exist_ok=True)\n",
    "train_df.to_csv('./../data/TDC/Bioavailability/train_df.csv', index=False)\n",
    "val_df.to_csv('./../data/TDC/Bioavailability/val_df.csv', index=False)\n",
    "test_df.to_csv('./../data/TDC/Bioavailability/test_df.csv', index=False)\n"
   ]
  },
  {
   "cell_type": "code",
   "execution_count": 9,
   "id": "ff3bab66",
   "metadata": {},
   "outputs": [
    {
     "name": "stderr",
     "output_type": "stream",
     "text": [
      "Found local copy...\n",
      "Loading...\n",
      "Done!\n",
      "100%|██████████| 640/640 [00:00<00:00, 4027.01it/s]\n"
     ]
    },
    {
     "data": {
      "text/html": [
       "<div>\n",
       "<style scoped>\n",
       "    .dataframe tbody tr th:only-of-type {\n",
       "        vertical-align: middle;\n",
       "    }\n",
       "\n",
       "    .dataframe tbody tr th {\n",
       "        vertical-align: top;\n",
       "    }\n",
       "\n",
       "    .dataframe thead th {\n",
       "        text-align: right;\n",
       "    }\n",
       "</style>\n",
       "<table border=\"1\" class=\"dataframe\">\n",
       "  <thead>\n",
       "    <tr style=\"text-align: right;\">\n",
       "      <th></th>\n",
       "      <th>Drug_ID</th>\n",
       "      <th>Drug</th>\n",
       "      <th>Y</th>\n",
       "    </tr>\n",
       "  </thead>\n",
       "  <tbody>\n",
       "    <tr>\n",
       "      <th>0</th>\n",
       "      <td>Edrophonium</td>\n",
       "      <td>CC[N+](C)(C)c1cccc(O)c1</td>\n",
       "      <td>0</td>\n",
       "    </tr>\n",
       "    <tr>\n",
       "      <th>1</th>\n",
       "      <td>Phenylpropanolamine</td>\n",
       "      <td>C[C@H](N)[C@H](O)c1ccccc1</td>\n",
       "      <td>1</td>\n",
       "    </tr>\n",
       "    <tr>\n",
       "      <th>2</th>\n",
       "      <td>Tocainide</td>\n",
       "      <td>Cc1cccc(C)c1NC(=O)C(C)N</td>\n",
       "      <td>1</td>\n",
       "    </tr>\n",
       "    <tr>\n",
       "      <th>3</th>\n",
       "      <td>Tulobuterol</td>\n",
       "      <td>CC(C)(C)NCC(O)c1ccccc1Cl</td>\n",
       "      <td>1</td>\n",
       "    </tr>\n",
       "    <tr>\n",
       "      <th>4</th>\n",
       "      <td>Metoclopramide</td>\n",
       "      <td>CCN(CC)CCNC(=O)c1cc(Cl)c(N)cc1OC</td>\n",
       "      <td>1</td>\n",
       "    </tr>\n",
       "    <tr>\n",
       "      <th>...</th>\n",
       "      <td>...</td>\n",
       "      <td>...</td>\n",
       "      <td>...</td>\n",
       "    </tr>\n",
       "    <tr>\n",
       "      <th>443</th>\n",
       "      <td>Almotriptan</td>\n",
       "      <td>CN(C)CCc1c[nH]c2ccc(CS(=O)(=O)N3CCCC3)cc12</td>\n",
       "      <td>1</td>\n",
       "    </tr>\n",
       "    <tr>\n",
       "      <th>444</th>\n",
       "      <td>Ampicillin</td>\n",
       "      <td>CC1(C)S[C@@H]2[C@H](NC(=O)[C@H](N)c3ccccc3)C(=...</td>\n",
       "      <td>1</td>\n",
       "    </tr>\n",
       "    <tr>\n",
       "      <th>445</th>\n",
       "      <td>Amoxicillin</td>\n",
       "      <td>CC1(C)S[C@@H]2[C@H](NC(=O)[C@H](N)c3ccc(O)cc3)...</td>\n",
       "      <td>1</td>\n",
       "    </tr>\n",
       "    <tr>\n",
       "      <th>446</th>\n",
       "      <td>Azidocillin</td>\n",
       "      <td>CC1(C)S[C@@H]2[C@H](NC(=O)[C@H](N=[N+]=[N-])c3...</td>\n",
       "      <td>1</td>\n",
       "    </tr>\n",
       "    <tr>\n",
       "      <th>447</th>\n",
       "      <td>Molsidomine</td>\n",
       "      <td>CCOC(=O)[N-]c1c[n+](N2CCOCC2)no1</td>\n",
       "      <td>1</td>\n",
       "    </tr>\n",
       "  </tbody>\n",
       "</table>\n",
       "<p>448 rows × 3 columns</p>\n",
       "</div>"
      ],
      "text/plain": [
       "                 Drug_ID                                               Drug  Y\n",
       "0            Edrophonium                            CC[N+](C)(C)c1cccc(O)c1  0\n",
       "1    Phenylpropanolamine                          C[C@H](N)[C@H](O)c1ccccc1  1\n",
       "2              Tocainide                            Cc1cccc(C)c1NC(=O)C(C)N  1\n",
       "3            Tulobuterol                           CC(C)(C)NCC(O)c1ccccc1Cl  1\n",
       "4         Metoclopramide                   CCN(CC)CCNC(=O)c1cc(Cl)c(N)cc1OC  1\n",
       "..                   ...                                                ... ..\n",
       "443          Almotriptan         CN(C)CCc1c[nH]c2ccc(CS(=O)(=O)N3CCCC3)cc12  1\n",
       "444           Ampicillin  CC1(C)S[C@@H]2[C@H](NC(=O)[C@H](N)c3ccccc3)C(=...  1\n",
       "445          Amoxicillin  CC1(C)S[C@@H]2[C@H](NC(=O)[C@H](N)c3ccc(O)cc3)...  1\n",
       "446          Azidocillin  CC1(C)S[C@@H]2[C@H](NC(=O)[C@H](N=[N+]=[N-])c3...  1\n",
       "447          Molsidomine                   CCOC(=O)[N-]c1c[n+](N2CCOCC2)no1  1\n",
       "\n",
       "[448 rows x 3 columns]"
      ]
     },
     "execution_count": 9,
     "metadata": {},
     "output_type": "execute_result"
    }
   ],
   "source": [
    "\n",
    "data = ADME(name = 'Bioavailability_Ma')\n",
    "split= data.get_split(method = 'scaffold')\n",
    "train_df = split['train']\n",
    "val_df = split['valid']\n",
    "test_df = split['test']\n",
    "train_df"
   ]
  }
 ],
 "metadata": {
  "kernelspec": {
   "display_name": "finetuning",
   "language": "python",
   "name": "python3"
  },
  "language_info": {
   "codemirror_mode": {
    "name": "ipython",
    "version": 3
   },
   "file_extension": ".py",
   "mimetype": "text/x-python",
   "name": "python",
   "nbconvert_exporter": "python",
   "pygments_lexer": "ipython3",
   "version": "3.11.11"
  }
 },
 "nbformat": 4,
 "nbformat_minor": 5
}
