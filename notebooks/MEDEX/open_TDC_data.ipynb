{
 "cells": [
  {
   "cell_type": "code",
   "execution_count": 5,
   "id": "444f29ec",
   "metadata": {},
   "outputs": [
    {
     "name": "stderr",
     "output_type": "stream",
     "text": [
      "Found local copy...\n",
      "Loading...\n",
      "Done!\n",
      "100%|██████████| 7278/7278 [00:01<00:00, 6961.37it/s]\n"
     ]
    }
   ],
   "source": [
    "from tdc.single_pred import Tox, ADME\n",
    "\n",
    "data= Tox(name= \"AMES\")\n",
    "split= data.get_split(method = 'scaffold')\n",
    "train_df = split['train']\n",
    "val_df = split['valid']\n",
    "test_df = split['test']"
   ]
  },
  {
   "cell_type": "code",
   "execution_count": 6,
   "id": "a119b329",
   "metadata": {},
   "outputs": [],
   "source": [
    "import os\n",
    "\n",
    "# create AMES directory if it doesn't exist\n",
    "os.makedirs('./../data/TDC/AMES', exist_ok=True)\n",
    "train_df.to_csv('./../data/TDC/AMES/train_df.csv', index=False)\n",
    "val_df.to_csv('./../data/TDC/AMES/val_df.csv', index=False)\n",
    "test_df.to_csv('./../data/TDC/AMES/test_df.csv', index=False)\n"
   ]
  },
  {
   "cell_type": "code",
   "execution_count": 7,
   "id": "e6cf1cdf",
   "metadata": {},
   "outputs": [
    {
     "name": "stderr",
     "output_type": "stream",
     "text": [
      "Found local copy...\n",
      "Loading...\n",
      "Done!\n"
     ]
    }
   ],
   "source": [
    "from tdc.single_pred import Tox\n",
    "data = Tox(name = 'Skin Reaction')\n",
    "split = data.get_split()\n",
    "train_df = split['train']\n",
    "val_df = split['valid']\n",
    "test_df = split['test']"
   ]
  },
  {
   "cell_type": "code",
   "execution_count": 8,
   "id": "8c196baa",
   "metadata": {},
   "outputs": [],
   "source": [
    "\n",
    "os.makedirs('./../data/TDC/Skin', exist_ok=True)\n",
    "train_df.to_csv('./../data/TDC/Skin/train_df.csv', index=False)\n",
    "val_df.to_csv('./../data/TDC/Skin/val_df.csv', index=False)\n",
    "test_df.to_csv('./../data/TDC/Skin/test_df.csv', index=False)\n"
   ]
  },
  {
   "cell_type": "code",
   "execution_count": 2,
   "id": "1a275f96",
   "metadata": {},
   "outputs": [
    {
     "name": "stderr",
     "output_type": "stream",
     "text": [
      "Found local copy...\n",
      "Loading...\n",
      "Done!\n",
      "100%|██████████| 13445/13445 [00:04<00:00, 3304.84it/s]\n"
     ]
    }
   ],
   "source": [
    "from tdc.single_pred import Tox, ADME\n",
    "import os\n",
    "data = Tox(name = 'hERG_Karim')\n",
    "split= data.get_split(method = 'scaffold')\n",
    "train_df = split['train']\n",
    "val_df = split['valid']\n",
    "test_df = split['test']\n",
    "\n",
    "os.makedirs('./../data/TDC/Karim', exist_ok=True)\n",
    "train_df.to_csv('./../data/TDC/Karim/train_df.csv', index=False)\n",
    "val_df.to_csv('./../data/TDC/Karim/val_df.csv', index=False)\n",
    "test_df.to_csv('./../data/TDC/Karim/test_df.csv', index=False)\n"
   ]
  },
  {
   "cell_type": "code",
   "execution_count": 3,
   "id": "ff71192b",
   "metadata": {},
   "outputs": [
    {
     "name": "stderr",
     "output_type": "stream",
     "text": [
      "Downloading...\n",
      "100%|██████████| 20.2k/20.2k [00:00<00:00, 7.24MiB/s]\n",
      "Loading...\n",
      "Done!\n",
      "100%|██████████| 280/280 [00:00<00:00, 3187.21it/s]\n"
     ]
    }
   ],
   "source": [
    "from tdc.single_pred import Tox, ADME\n",
    "\n",
    "data = Tox(name = 'Carcinogens_Lagunin')\n",
    "split= data.get_split(method = 'scaffold')\n",
    "train_df = split['train']\n",
    "val_df = split['valid']\n",
    "test_df = split['test']\n",
    "\n",
    "os.makedirs('./../data/TDC/Carcinogens', exist_ok=True)\n",
    "train_df.to_csv('./../data/TDC/Carcinogens/train_df.csv', index=False)\n",
    "val_df.to_csv('./../data/TDC/Carcinogens/val_df.csv', index=False)\n",
    "test_df.to_csv('./../data/TDC/Carcinogens/test_df.csv', index=False)\n"
   ]
  },
  {
   "cell_type": "code",
   "execution_count": 4,
   "id": "848013a7",
   "metadata": {},
   "outputs": [
    {
     "name": "stderr",
     "output_type": "stream",
     "text": [
      "Downloading...\n",
      "100%|██████████| 138k/138k [00:00<00:00, 1.43MiB/s]\n",
      "Loading...\n",
      "Done!\n",
      "100%|██████████| 2030/2030 [00:00<00:00, 3528.59it/s]\n"
     ]
    }
   ],
   "source": [
    "from tdc.single_pred import Tox, ADME\n",
    "\n",
    "data = ADME(name = 'BBB_Martins')\n",
    "split= data.get_split(method = 'scaffold')\n",
    "train_df = split['train']\n",
    "val_df = split['valid']\n",
    "test_df = split['test']\n",
    "\n",
    "os.makedirs('./../data/TDC/BBB', exist_ok=True)\n",
    "train_df.to_csv('./../data/TDC/BBB/train_df.csv', index=False)\n",
    "val_df.to_csv('./../data/TDC/BBB/val_df.csv', index=False)\n",
    "test_df.to_csv('./../data/TDC/BBB/test_df.csv', index=False)\n"
   ]
  },
  {
   "cell_type": "code",
   "execution_count": 5,
   "id": "96008370",
   "metadata": {},
   "outputs": [
    {
     "name": "stderr",
     "output_type": "stream",
     "text": [
      "Downloading...\n",
      "100%|██████████| 43.7k/43.7k [00:00<00:00, 5.37MiB/s]\n",
      "Loading...\n",
      "Done!\n",
      "100%|██████████| 640/640 [00:00<00:00, 4520.23it/s]\n"
     ]
    }
   ],
   "source": [
    "from tdc.single_pred import Tox, ADME\n",
    "\n",
    "data = ADME(name = 'Bioavailability_Ma')\n",
    "split= data.get_split(method = 'scaffold')\n",
    "train_df = split['train']\n",
    "val_df = split['valid']\n",
    "test_df = split['test']\n",
    "\n",
    "os.makedirs('./../data/TDC/Bioavailability', exist_ok=True)\n",
    "train_df.to_csv('./../data/TDC/Bioavailability/train_df.csv', index=False)\n",
    "val_df.to_csv('./../data/TDC/Bioavailability/val_df.csv', index=False)\n",
    "test_df.to_csv('./../data/TDC/Bioavailability/test_df.csv', index=False)\n"
   ]
  }
 ],
 "metadata": {
  "kernelspec": {
   "display_name": "finetuning",
   "language": "python",
   "name": "python3"
  },
  "language_info": {
   "codemirror_mode": {
    "name": "ipython",
    "version": 3
   },
   "file_extension": ".py",
   "mimetype": "text/x-python",
   "name": "python",
   "nbconvert_exporter": "python",
   "pygments_lexer": "ipython3",
   "version": "3.11.11"
  }
 },
 "nbformat": 4,
 "nbformat_minor": 5
}
